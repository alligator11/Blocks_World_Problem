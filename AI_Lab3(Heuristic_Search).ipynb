{
  "nbformat": 4,
  "nbformat_minor": 0,
  "metadata": {
    "colab": {
      "provenance": [],
      "authorship_tag": "ABX9TyOyBzfCB8x7o+dtZkpqOQAk",
      "include_colab_link": true
    },
    "kernelspec": {
      "name": "python3",
      "display_name": "Python 3"
    },
    "language_info": {
      "name": "python"
    }
  },
  "cells": [
    {
      "cell_type": "markdown",
      "metadata": {
        "id": "view-in-github",
        "colab_type": "text"
      },
      "source": [
        "<a href=\"https://colab.research.google.com/github/alligator11/Blocks_World_Problem/blob/main/AI_Lab3(Heuristic_Search).ipynb\" target=\"_parent\"><img src=\"https://colab.research.google.com/assets/colab-badge.svg\" alt=\"Open In Colab\"/></a>"
      ]
    },
    {
      "cell_type": "markdown",
      "source": [
        "Block worlds Problem"
      ],
      "metadata": {
        "id": "a8qDEByCirSJ"
      }
    },
    {
      "cell_type": "code",
      "execution_count": null,
      "metadata": {
        "id": "idwdvXOX7E7d"
      },
      "outputs": [],
      "source": [
        "def moveGen(state):\n",
        "  neighbours = []\n",
        "  for i in range(len(state)):\n",
        "    for j in range(len(state)):\n",
        "      if j!=i:\n",
        "\n",
        "        if i>j:\n",
        "          new_list = state[:j]\n",
        "          new_list.append(state[j] + [state[i][-1]])\n",
        "          if i-j>1:\n",
        "            new_list+=state[j+1:i]\n",
        "          if len(state[i])>1:\n",
        "            new_list.append(state[i][:-1])\n",
        "          if i+1<len(state):\n",
        "            new_list+=state[i+1:]\n",
        "          neighbours.append(new_list)\n",
        "\n",
        "        else:\n",
        "          new_list = state[:i]\n",
        "          if len(state[i])>1:\n",
        "            new_list.append(state[i][:-1])\n",
        "          if j-i>1:\n",
        "            new_list+=state[i+1:j]\n",
        "          new_list.append(state[j] + [state[i][-1]])\n",
        "          if j+1<len(state):\n",
        "            new_list+=state[j+1:]\n",
        "          neighbours.append(new_list)\n",
        "\n",
        "    if len(state[i])>1:\n",
        "      neighbours.append(state[:i]+[state[i][:-1]]+state[i+1:]+[[state[i][-1]]])\n",
        "\n",
        "  return neighbours"
      ]
    },
    {
      "cell_type": "code",
      "source": [
        "start_state = [['D','C','B','A'],['F','E']]\n",
        "moveGen(start_state)"
      ],
      "metadata": {
        "colab": {
          "base_uri": "https://localhost:8080/"
        },
        "id": "JzgW467W8iJI",
        "outputId": "b8cd83be-3c9b-4636-9794-ec4a42463f66"
      },
      "execution_count": null,
      "outputs": [
        {
          "output_type": "execute_result",
          "data": {
            "text/plain": [
              "[[['D', 'C', 'B'], ['F', 'E', 'A']],\n",
              " [['D', 'C', 'B'], ['F', 'E'], ['A']],\n",
              " [['D', 'C', 'B', 'A', 'E'], ['F']],\n",
              " [['D', 'C', 'B', 'A'], ['F'], ['E']]]"
            ]
          },
          "metadata": {},
          "execution_count": 2
        }
      ]
    },
    {
      "cell_type": "code",
      "source": [
        "start_state = [['D', 'C', 'B'], ['F', 'E'], ['A']]\n",
        "moveGen(start_state)"
      ],
      "metadata": {
        "colab": {
          "base_uri": "https://localhost:8080/"
        },
        "id": "cOwHKyAUCDcl",
        "outputId": "9960a16e-223f-4b29-e184-7af442c335e7"
      },
      "execution_count": null,
      "outputs": [
        {
          "output_type": "execute_result",
          "data": {
            "text/plain": [
              "[[['D', 'C'], ['F', 'E', 'B'], ['A']],\n",
              " [['D', 'C'], ['F', 'E'], ['A', 'B']],\n",
              " [['D', 'C'], ['F', 'E'], ['A'], ['B']],\n",
              " [['D', 'C', 'B', 'E'], ['F'], ['A']],\n",
              " [['D', 'C', 'B'], ['F'], ['A', 'E']],\n",
              " [['D', 'C', 'B'], ['F'], ['A'], ['E']],\n",
              " [['D', 'C', 'B', 'A'], ['F', 'E']],\n",
              " [['D', 'C', 'B'], ['F', 'E', 'A']]]"
            ]
          },
          "metadata": {},
          "execution_count": 3
        }
      ]
    },
    {
      "cell_type": "code",
      "source": [
        "start_state = [['D', 'C', 'B', 'E'], ['F'], ['A']]\n",
        "moveGen(start_state)"
      ],
      "metadata": {
        "colab": {
          "base_uri": "https://localhost:8080/"
        },
        "id": "MesEII6aWzEb",
        "outputId": "2165a34b-002d-44f6-b494-def6ce35822d"
      },
      "execution_count": null,
      "outputs": [
        {
          "output_type": "execute_result",
          "data": {
            "text/plain": [
              "[[['D', 'C', 'B'], ['F', 'E'], ['A']],\n",
              " [['D', 'C', 'B'], ['F'], ['A', 'E']],\n",
              " [['D', 'C', 'B'], ['F'], ['A'], ['E']],\n",
              " [['D', 'C', 'B', 'E', 'F'], ['A']],\n",
              " [['D', 'C', 'B', 'E'], ['A', 'F']],\n",
              " [['D', 'C', 'B', 'E', 'A'], ['F']],\n",
              " [['D', 'C', 'B', 'E'], ['F', 'A']]]"
            ]
          },
          "metadata": {},
          "execution_count": 4
        }
      ]
    },
    {
      "cell_type": "code",
      "source": [
        "def heuristic1(state, goal_state):\n",
        "  count = 0\n",
        "  for i in range(len(state)):\n",
        "    for j in range(len(state[i])):\n",
        "      try:\n",
        "        if state[i][j]==goal_state[i][j]:\n",
        "          count+=1\n",
        "        else:\n",
        "          count-=1\n",
        "      except:\n",
        "        count-=1\n",
        "  return count"
      ],
      "metadata": {
        "id": "t6sqmXEsfGHk"
      },
      "execution_count": null,
      "outputs": []
    },
    {
      "cell_type": "code",
      "source": [
        "state = [['D', 'C', 'B'], ['F', 'E', 'A']]\n",
        "goal_state = [['D', 'C', 'B', 'E', 'A'], ['F']]\n",
        "heuristic1(state, goal_state)"
      ],
      "metadata": {
        "id": "_znAdOE6NqVW",
        "colab": {
          "base_uri": "https://localhost:8080/"
        },
        "outputId": "8ecd8111-bd87-4f10-d80b-b38e646ec2ab"
      },
      "execution_count": null,
      "outputs": [
        {
          "output_type": "execute_result",
          "data": {
            "text/plain": [
              "2"
            ]
          },
          "metadata": {},
          "execution_count": 6
        }
      ]
    },
    {
      "cell_type": "code",
      "source": [
        "state = [['D', 'C', 'B'], ['E','F','A']]\n",
        "heuristic1(state, goal_state)"
      ],
      "metadata": {
        "colab": {
          "base_uri": "https://localhost:8080/"
        },
        "id": "y51K9dPScBRM",
        "outputId": "7f6e639b-adb8-46e5-efac-d0498cc5092f"
      },
      "execution_count": null,
      "outputs": [
        {
          "output_type": "execute_result",
          "data": {
            "text/plain": [
              "0"
            ]
          },
          "metadata": {},
          "execution_count": 7
        }
      ]
    },
    {
      "cell_type": "code",
      "source": [
        "state = [['D', 'C', 'B'], ['F'],['A','E']]\n",
        "heuristic1(state, goal_state)"
      ],
      "metadata": {
        "colab": {
          "base_uri": "https://localhost:8080/"
        },
        "id": "UFqNiFvFZrqd",
        "outputId": "0d8e10a2-04ea-4ccb-e1d9-bca092a1d6a1"
      },
      "execution_count": null,
      "outputs": [
        {
          "output_type": "execute_result",
          "data": {
            "text/plain": [
              "2"
            ]
          },
          "metadata": {},
          "execution_count": 8
        }
      ]
    },
    {
      "cell_type": "code",
      "source": [
        "state = [['D', 'C', 'B', 'E'], ['F'],['A']]\n",
        "heuristic1(state, goal_state)"
      ],
      "metadata": {
        "colab": {
          "base_uri": "https://localhost:8080/"
        },
        "id": "2Lv9Q-LNan9N",
        "outputId": "893afef4-3cf7-442e-b780-0ed8d9cdaebc"
      },
      "execution_count": null,
      "outputs": [
        {
          "output_type": "execute_result",
          "data": {
            "text/plain": [
              "4"
            ]
          },
          "metadata": {},
          "execution_count": 9
        }
      ]
    },
    {
      "cell_type": "code",
      "source": [
        "def heuristic2(state, goal_state):\n",
        "  count = 0\n",
        "  for i in range(len(state)):\n",
        "    for j in range(len(state[i])):\n",
        "      try:\n",
        "        if state[i][j]==goal_state[i][j]:\n",
        "          count+=j+1\n",
        "        else:\n",
        "          count-=j+1\n",
        "      except:\n",
        "        count-=j+1\n",
        "  return count"
      ],
      "metadata": {
        "id": "TZBVR-ZBXMXM"
      },
      "execution_count": null,
      "outputs": []
    },
    {
      "cell_type": "code",
      "source": [
        "state = [['D', 'C', 'B'], ['F', 'E', 'A']]\n",
        "heuristic2(state, goal_state)"
      ],
      "metadata": {
        "colab": {
          "base_uri": "https://localhost:8080/"
        },
        "id": "QCKhG5qUjjjM",
        "outputId": "3993110a-3782-460d-9bc9-cb91e0c81f95"
      },
      "execution_count": null,
      "outputs": [
        {
          "output_type": "execute_result",
          "data": {
            "text/plain": [
              "2"
            ]
          },
          "metadata": {},
          "execution_count": 11
        }
      ]
    },
    {
      "cell_type": "code",
      "source": [
        "state = [['D', 'C', 'B'], ['E','F','A']]\n",
        "heuristic2(state, goal_state)"
      ],
      "metadata": {
        "colab": {
          "base_uri": "https://localhost:8080/"
        },
        "id": "7axbxKnMj2s_",
        "outputId": "f050f445-3834-4cee-f91e-272a57335bb7"
      },
      "execution_count": null,
      "outputs": [
        {
          "output_type": "execute_result",
          "data": {
            "text/plain": [
              "0"
            ]
          },
          "metadata": {},
          "execution_count": 12
        }
      ]
    },
    {
      "cell_type": "code",
      "source": [
        "state = [['D', 'C', 'B'], ['F'], ['A','E']]\n",
        "heuristic2(state, goal_state)"
      ],
      "metadata": {
        "colab": {
          "base_uri": "https://localhost:8080/"
        },
        "id": "PVHeuQHHlCrt",
        "outputId": "11604e67-d345-4b0b-f8f0-ea83914675fb"
      },
      "execution_count": null,
      "outputs": [
        {
          "output_type": "execute_result",
          "data": {
            "text/plain": [
              "4"
            ]
          },
          "metadata": {},
          "execution_count": 13
        }
      ]
    },
    {
      "cell_type": "code",
      "source": [
        "state = [['D', 'C', 'B', 'E'], ['F'],['A']]\n",
        "heuristic2(state, goal_state)"
      ],
      "metadata": {
        "colab": {
          "base_uri": "https://localhost:8080/"
        },
        "id": "1utdIlmElKC5",
        "outputId": "b6438f7a-4dd5-4095-c612-8d8de304b656"
      },
      "execution_count": null,
      "outputs": [
        {
          "output_type": "execute_result",
          "data": {
            "text/plain": [
              "10"
            ]
          },
          "metadata": {},
          "execution_count": 14
        }
      ]
    },
    {
      "cell_type": "markdown",
      "source": [
        "Hill Climbing"
      ],
      "metadata": {
        "id": "IQSlKAQqi425"
      }
    },
    {
      "cell_type": "code",
      "source": [
        "def sorth1(options,G):\n",
        "  heuristics = []\n",
        "  for i,option in enumerate(options):\n",
        "    heuristics.append([])\n",
        "    heuristics[i].append(option)\n",
        "    heuristics[i].append(heuristic1(option,G))\n",
        "  return [li[0] for li in sorted(heuristics,key=lambda l:l[1], reverse=True)]"
      ],
      "metadata": {
        "id": "qA3ygTwCoA5i"
      },
      "execution_count": null,
      "outputs": []
    },
    {
      "cell_type": "code",
      "source": [
        "neighbours = [[['D', 'C', 'B', 'E'], ['F'],['A']],\n",
        "              [['D', 'C', 'B'], ['E','F','A']],\n",
        "              [['D', 'C', 'B'], ['F'],['A','E']]]\n",
        "goal_state = [['D', 'C', 'B', 'E', 'A'], ['F']]\n",
        "sorth1(neighbours, goal_state)"
      ],
      "metadata": {
        "colab": {
          "base_uri": "https://localhost:8080/"
        },
        "id": "Fh2xhq2h0EWm",
        "outputId": "f36ec1e0-7b9b-45be-ae70-a2a73e1ffdf0"
      },
      "execution_count": null,
      "outputs": [
        {
          "output_type": "execute_result",
          "data": {
            "text/plain": [
              "[[['D', 'C', 'B', 'E'], ['F'], ['A']],\n",
              " [['D', 'C', 'B'], ['F'], ['A', 'E']],\n",
              " [['D', 'C', 'B'], ['E', 'F', 'A']]]"
            ]
          },
          "metadata": {},
          "execution_count": 16
        }
      ]
    },
    {
      "cell_type": "code",
      "source": [
        "def Hill_Climbing1(S, G):\n",
        "  N=S\n",
        "  i=1\n",
        "  while True:\n",
        "    bestEver = N\n",
        "    N = sorth1(moveGen(bestEver),G)[0]\n",
        "    print(f'Step {i}: ',N)\n",
        "    i+=1\n",
        "    if heuristic1(N,G)<=heuristic1(bestEver,G):\n",
        "      break\n",
        "  return bestEver"
      ],
      "metadata": {
        "id": "TKPAO0RnlN0_"
      },
      "execution_count": null,
      "outputs": []
    },
    {
      "cell_type": "code",
      "source": [
        "start = [['D', 'C', 'B', 'A'],\n",
        "         ['F', 'E']]\n",
        "goal = [['D', 'C', 'B', 'E', 'A'],\n",
        "        ['F']]\n",
        "Hill_Climbing1(start, goal)"
      ],
      "metadata": {
        "colab": {
          "base_uri": "https://localhost:8080/"
        },
        "id": "jimUNGiYsALa",
        "outputId": "56271b57-5e4a-4ccf-eb56-6856ee1d612e"
      },
      "execution_count": null,
      "outputs": [
        {
          "output_type": "stream",
          "name": "stdout",
          "text": [
            "Step 1:  [['D', 'C', 'B'], ['F', 'E', 'A']]\n"
          ]
        },
        {
          "output_type": "execute_result",
          "data": {
            "text/plain": [
              "[['D', 'C', 'B', 'A'], ['F', 'E']]"
            ]
          },
          "metadata": {},
          "execution_count": 18
        }
      ]
    },
    {
      "cell_type": "code",
      "source": [
        "def sorth2(options,G):\n",
        "  heuristics = []\n",
        "  for i,option in enumerate(options):\n",
        "    heuristics.append([])\n",
        "    heuristics[i].append(option)\n",
        "    heuristics[i].append(heuristic2(option,G))\n",
        "  return [li[0] for li in sorted(heuristics,key=lambda l:l[1], reverse=True)]"
      ],
      "metadata": {
        "id": "jI_my8j4pHSa"
      },
      "execution_count": null,
      "outputs": []
    },
    {
      "cell_type": "code",
      "source": [
        "neighbours = [[['D', 'C', 'B', 'E'], ['F'],['A']],\n",
        "              [['D', 'C', 'B'], ['E','F','A']],\n",
        "              [['D', 'C', 'B'], ['F'],['A','E']]]\n",
        "goal_state = [['D', 'C', 'B', 'E', 'A'], ['F']]\n",
        "sorth2(neighbours, goal_state)"
      ],
      "metadata": {
        "colab": {
          "base_uri": "https://localhost:8080/"
        },
        "id": "7vyp39nu2Np6",
        "outputId": "35e56f66-ff82-42b3-9f75-224a4b3d2678"
      },
      "execution_count": null,
      "outputs": [
        {
          "output_type": "execute_result",
          "data": {
            "text/plain": [
              "[[['D', 'C', 'B', 'E'], ['F'], ['A']],\n",
              " [['D', 'C', 'B'], ['F'], ['A', 'E']],\n",
              " [['D', 'C', 'B'], ['E', 'F', 'A']]]"
            ]
          },
          "metadata": {},
          "execution_count": 20
        }
      ]
    },
    {
      "cell_type": "code",
      "source": [
        "def Hill_Climbing2(S, G):\n",
        "  N=S\n",
        "  i=1\n",
        "  while True:\n",
        "    bestEver = N\n",
        "    N = sorth2(moveGen(bestEver), G)[0]\n",
        "    print(f'Step {i}: ',N)\n",
        "    i+=1\n",
        "    if heuristic2(N, G)<=heuristic2(bestEver, G):\n",
        "      break\n",
        "  return bestEver"
      ],
      "metadata": {
        "id": "wOdsmL18nqq-"
      },
      "execution_count": null,
      "outputs": []
    },
    {
      "cell_type": "code",
      "source": [
        "Hill_Climbing2(start, goal)"
      ],
      "metadata": {
        "colab": {
          "base_uri": "https://localhost:8080/"
        },
        "id": "amVZwZsMtjDb",
        "outputId": "5c09c4c9-a5ce-436a-d8a6-2e96613ad7fe"
      },
      "execution_count": null,
      "outputs": [
        {
          "output_type": "stream",
          "name": "stdout",
          "text": [
            "Step 1:  [['D', 'C', 'B'], ['F', 'E'], ['A']]\n",
            "Step 2:  [['D', 'C', 'B', 'E'], ['F'], ['A']]\n",
            "Step 3:  [['D', 'C', 'B', 'E', 'A'], ['F']]\n",
            "Step 4:  [['D', 'C', 'B', 'E'], ['F'], ['A']]\n"
          ]
        },
        {
          "output_type": "execute_result",
          "data": {
            "text/plain": [
              "[['D', 'C', 'B', 'E', 'A'], ['F']]"
            ]
          },
          "metadata": {},
          "execution_count": 22
        }
      ]
    },
    {
      "cell_type": "markdown",
      "source": [
        "Best First Search"
      ],
      "metadata": {
        "id": "Ke_B2BQ7i8_x"
      }
    },
    {
      "cell_type": "code",
      "source": [
        "def GoalTest(S, G):\n",
        "  for i in range(len(S)):\n",
        "    for j in range(len(S[i])):\n",
        "      try:\n",
        "        if S[i][j]!=G[i][j]:\n",
        "          return False\n",
        "      except:\n",
        "        return False\n",
        "  return True"
      ],
      "metadata": {
        "id": "rm51LcnywG6I"
      },
      "execution_count": null,
      "outputs": []
    },
    {
      "cell_type": "code",
      "source": [
        "state = [['D', 'C', 'B'], ['F', 'E', 'A']]\n",
        "goal_state = [['D', 'C', 'B', 'E', 'A'], ['F']]\n",
        "GoalTest(state, goal_state)"
      ],
      "metadata": {
        "colab": {
          "base_uri": "https://localhost:8080/"
        },
        "id": "G5-uRGb63c2E",
        "outputId": "aaf06a87-acec-4204-e682-dd5d9c83e770"
      },
      "execution_count": null,
      "outputs": [
        {
          "output_type": "execute_result",
          "data": {
            "text/plain": [
              "False"
            ]
          },
          "metadata": {},
          "execution_count": 24
        }
      ]
    },
    {
      "cell_type": "code",
      "source": [
        "GoalTest(goal_state, goal_state)"
      ],
      "metadata": {
        "colab": {
          "base_uri": "https://localhost:8080/"
        },
        "id": "xGWIuGHF3p9N",
        "outputId": "7bb572df-95dc-45a4-f845-928898506732"
      },
      "execution_count": null,
      "outputs": [
        {
          "output_type": "execute_result",
          "data": {
            "text/plain": [
              "True"
            ]
          },
          "metadata": {},
          "execution_count": 25
        }
      ]
    },
    {
      "cell_type": "code",
      "source": [
        "def ReconstructPath1(nodePair, close, G):\n",
        "  def SkipTo(parent, nodePairs, depth):\n",
        "    if GoalTest(parent, nodePairs[0][0]) and depth == nodePairs[0][2]:\n",
        "      return nodePairs\n",
        "    else:\n",
        "      return SkipTo(parent, nodePairs[1:], depth)\n",
        "\n",
        "  (node, parent, depth) = nodePair\n",
        "  path = [node]\n",
        "  while parent != None:\n",
        "    path.append(parent)\n",
        "    close = SkipTo(parent, close, heuristic1(parent, G))\n",
        "    (_, parent, depth) = close[0]\n",
        "  return path"
      ],
      "metadata": {
        "id": "RjWoFCHZwa0k"
      },
      "execution_count": null,
      "outputs": []
    },
    {
      "cell_type": "code",
      "source": [
        "def ReconstructPath2(nodePair, close, G):\n",
        "  def SkipTo(parent, nodePairs, depth):\n",
        "    if GoalTest(parent, nodePairs[0][0]) and depth == nodePairs[0][2]:\n",
        "      return nodePairs\n",
        "    else:\n",
        "      return SkipTo(parent, nodePairs[1:], depth)\n",
        "\n",
        "  (node, parent, depth) = nodePair\n",
        "  path = [node]\n",
        "  while parent != None:\n",
        "    path.append(parent)\n",
        "    close = SkipTo(parent, close, heuristic2(parent, G))\n",
        "    (_, parent, depth) = close[0]\n",
        "  return path"
      ],
      "metadata": {
        "id": "lsPxW0o1hBVR"
      },
      "execution_count": null,
      "outputs": []
    },
    {
      "cell_type": "code",
      "source": [
        "def RemoveSeen(neighbours, open, closed):\n",
        "  for i in neighbours:\n",
        "    if i in map(lambda x: x[0],closed) or i in map(lambda x: x[0],open):\n",
        "      neighbours.remove(i)\n",
        "  return neighbours"
      ],
      "metadata": {
        "id": "T1l9MkhbxJ_Z"
      },
      "execution_count": null,
      "outputs": []
    },
    {
      "cell_type": "code",
      "source": [
        "def MakePairs1(nodeList, parent, G):\n",
        "  if nodeList == []:\n",
        "    return []\n",
        "  else:\n",
        "    nodePair = (nodeList[0], parent, heuristic1(nodeList[0], G))\n",
        "    return [nodePair]+(MakePairs1(nodeList[1:], parent, G))"
      ],
      "metadata": {
        "id": "fiEsXQtNyAIQ"
      },
      "execution_count": null,
      "outputs": []
    },
    {
      "cell_type": "code",
      "source": [
        "def MakePairs2(nodeList, parent, G):\n",
        "  if nodeList == []:\n",
        "    return []\n",
        "  else:\n",
        "    nodePair = (nodeList[0], parent, heuristic2(nodeList[0], G))\n",
        "    return [nodePair]+(MakePairs2(nodeList[1:], parent, G))"
      ],
      "metadata": {
        "id": "HgpfhzVrhKj_"
      },
      "execution_count": null,
      "outputs": []
    },
    {
      "cell_type": "code",
      "source": [
        "def sorth1_bfs(options,G):\n",
        "  heuristics = []\n",
        "  for i,option in enumerate(options):\n",
        "    heuristics.append([])\n",
        "    heuristics[i].append(option)\n",
        "    heuristics[i].append(heuristic1(option[0],G))\n",
        "  return [li[0] for li in sorted(heuristics,key=lambda l:l[1], reverse=True)]"
      ],
      "metadata": {
        "id": "8E3CwjFnAIeC"
      },
      "execution_count": null,
      "outputs": []
    },
    {
      "cell_type": "code",
      "source": [
        "def Best_First_Search1(S, G):\n",
        "  open = [(S, None, heuristic1(S, G))]\n",
        "  closed = []\n",
        "  while open != []:\n",
        "    nodePair = open[0]\n",
        "    N = nodePair[0]\n",
        "    if GoalTest(N, G) == True:\n",
        "      return ReconstructPath1(nodePair, closed, G)\n",
        "    else:\n",
        "      closed = [nodePair]+closed\n",
        "      neighbours = moveGen(N)\n",
        "      newNodes = RemoveSeen(neighbours, open, closed)\n",
        "      newPairs = MakePairs1(newNodes, N, G)\n",
        "      open = sorth1_bfs(newPairs+open[1:], G)\n",
        "  return []"
      ],
      "metadata": {
        "id": "_HU00cgEtoCl"
      },
      "execution_count": null,
      "outputs": []
    },
    {
      "cell_type": "code",
      "source": [
        "start = [['D', 'C', 'B', 'A'],\n",
        "         ['F', 'E']]\n",
        "goal = [['D', 'C', 'B', 'E', 'A'],\n",
        "        ['F']]\n",
        "Best_First_Search1(start, goal)"
      ],
      "metadata": {
        "colab": {
          "base_uri": "https://localhost:8080/"
        },
        "id": "Evff-l8V32Z0",
        "outputId": "1a5fd448-ccc0-4571-90e1-c7083bb682fb"
      },
      "execution_count": null,
      "outputs": [
        {
          "output_type": "execute_result",
          "data": {
            "text/plain": [
              "[[['D', 'C', 'B', 'E', 'A'], ['F']],\n",
              " [['D', 'C', 'B', 'E'], ['F'], ['A']],\n",
              " [['D', 'C', 'B'], ['F', 'E'], ['A']],\n",
              " [['D', 'C', 'B'], ['F', 'E', 'A']],\n",
              " [['D', 'C', 'B', 'A'], ['F', 'E']]]"
            ]
          },
          "metadata": {},
          "execution_count": 33
        }
      ]
    },
    {
      "cell_type": "code",
      "source": [
        "def sorth2_bfs(options,G):\n",
        "  heuristics = []\n",
        "  for i,option in enumerate(options):\n",
        "    heuristics.append([])\n",
        "    heuristics[i].append(option)\n",
        "    heuristics[i].append(heuristic2(option[0],G))\n",
        "  return [li[0] for li in sorted(heuristics,key=lambda l:l[1], reverse=True)]"
      ],
      "metadata": {
        "id": "0RMxN7bjAPGc"
      },
      "execution_count": null,
      "outputs": []
    },
    {
      "cell_type": "code",
      "source": [
        "def Best_First_Search2(S, G):\n",
        "  open = [(S, None, heuristic2(S, G))]\n",
        "  closed = []\n",
        "  while open != []:\n",
        "    nodePair = open[0]\n",
        "    N = nodePair[0]\n",
        "    if GoalTest(N, G) == True:\n",
        "      return ReconstructPath2(nodePair, closed, G)\n",
        "    else:\n",
        "      closed = [nodePair]+closed\n",
        "      neighbours = moveGen(N)\n",
        "      newNodes = RemoveSeen(neighbours, open, closed)\n",
        "      newPairs = MakePairs2(newNodes, N, G)\n",
        "      open = sorth2_bfs(newPairs+open[1:], G)\n",
        "  return []"
      ],
      "metadata": {
        "id": "CtiuO8SYyf9w"
      },
      "execution_count": null,
      "outputs": []
    },
    {
      "cell_type": "code",
      "source": [
        "start = [['D', 'C', 'B', 'A'],\n",
        "         ['F', 'E']]\n",
        "goal = [['D', 'C', 'B', 'E', 'A'],\n",
        "        ['F']]\n",
        "Best_First_Search2(start, goal)"
      ],
      "metadata": {
        "colab": {
          "base_uri": "https://localhost:8080/"
        },
        "id": "Kkk8qgQD31q0",
        "outputId": "074c1299-4e2f-48d8-8867-a089ad83a6bf"
      },
      "execution_count": null,
      "outputs": [
        {
          "output_type": "execute_result",
          "data": {
            "text/plain": [
              "[[['D', 'C', 'B', 'E', 'A'], ['F']],\n",
              " [['D', 'C', 'B', 'E'], ['F'], ['A']],\n",
              " [['D', 'C', 'B'], ['F', 'E'], ['A']],\n",
              " [['D', 'C', 'B', 'A'], ['F', 'E']]]"
            ]
          },
          "metadata": {},
          "execution_count": 36
        }
      ]
    },
    {
      "cell_type": "code",
      "source": [],
      "metadata": {
        "id": "0C-D0yHygfbB"
      },
      "execution_count": null,
      "outputs": []
    }
  ]
}